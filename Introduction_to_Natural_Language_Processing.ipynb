{
  "nbformat": 4,
  "nbformat_minor": 0,
  "metadata": {
    "colab": {
      "name": "Introduction to Natural Language Processing.ipynb",
      "provenance": [],
      "collapsed_sections": [
        "cd8PYqtyxTt8"
      ]
    },
    "kernelspec": {
      "name": "python3",
      "display_name": "Python 3"
    }
  },
  "cells": [
    {
      "cell_type": "markdown",
      "metadata": {
        "id": "RPuBqCCFCgvR"
      },
      "source": [
        "# Introduction to Natural Language Processing"
      ]
    },
    {
      "cell_type": "markdown",
      "metadata": {
        "id": "DMvt1D5QESDK"
      },
      "source": [
        "# Installing the libraries\n",
        "\n",
        "- spaCy: https://spacy.io/"
      ]
    },
    {
      "cell_type": "code",
      "metadata": {
        "id": "6C2UYzqul3dH"
      },
      "source": [
        "!pip install spacy --upgrade"
      ],
      "execution_count": null,
      "outputs": []
    },
    {
      "cell_type": "code",
      "metadata": {
        "colab": {
          "base_uri": "https://localhost:8080/",
          "height": 37
        },
        "id": "l_jH1EasmSAm",
        "outputId": "855e1f4e-a321-46dd-b8c3-9d7a8529b284"
      },
      "source": [
        "import spacy\n",
        "spacy.__version__"
      ],
      "execution_count": null,
      "outputs": [
        {
          "output_type": "execute_result",
          "data": {
            "application/vnd.google.colaboratory.intrinsic+json": {
              "type": "string"
            },
            "text/plain": [
              "'3.1.1'"
            ]
          },
          "metadata": {
            "tags": []
          },
          "execution_count": 9
        }
      ]
    },
    {
      "cell_type": "code",
      "metadata": {
        "id": "x8afShs9mZUh"
      },
      "source": [
        "!python -m spacy download pt_core_news_sm"
      ],
      "execution_count": null,
      "outputs": []
    },
    {
      "cell_type": "code",
      "metadata": {
        "id": "cEj-o4eJmvI0"
      },
      "source": [
        "!python -m spacy download fr_core_news_sm"
      ],
      "execution_count": null,
      "outputs": []
    },
    {
      "cell_type": "code",
      "metadata": {
        "id": "Bewc0GDanDtR"
      },
      "source": [
        "!python -m spacy download en_core_web_sm"
      ],
      "execution_count": null,
      "outputs": []
    },
    {
      "cell_type": "markdown",
      "metadata": {
        "id": "bJ2s3MS6EXBe"
      },
      "source": [
        "# POS (part-of-speech)\n",
        "\n",
        "- POS (part-of-speech): noun, adjective, verb\n",
        "- It is important to find named entities\n",
        "- Tags: https://ashutoshtripathi.com/2020/04/13/parts-of-speech-tagging-and-dependency-parsing-using-spacy-nlp/"
      ]
    },
    {
      "cell_type": "code",
      "metadata": {
        "id": "bcC4f065A3Gf"
      },
      "source": [
        "import en_core_web_sm"
      ],
      "execution_count": null,
      "outputs": []
    },
    {
      "cell_type": "code",
      "metadata": {
        "id": "akKSLOFXA8ri"
      },
      "source": [
        "nlp = spacy.load('en_core_web_sm')"
      ],
      "execution_count": null,
      "outputs": []
    },
    {
      "cell_type": "code",
      "metadata": {
        "colab": {
          "base_uri": "https://localhost:8080/"
        },
        "id": "ae70_AvFBIwz",
        "outputId": "3cbb698f-901c-4a02-f57d-711bae65838d"
      },
      "source": [
        "nlp"
      ],
      "execution_count": null,
      "outputs": [
        {
          "output_type": "execute_result",
          "data": {
            "text/plain": [
              "<spacy.lang.en.English at 0x7faa34052ad0>"
            ]
          },
          "metadata": {
            "tags": []
          },
          "execution_count": 12
        }
      ]
    },
    {
      "cell_type": "code",
      "metadata": {
        "id": "V4HQeueHBQIm"
      },
      "source": [
        "document = nlp('I am learning natural language processing. The course is in London')"
      ],
      "execution_count": null,
      "outputs": []
    },
    {
      "cell_type": "code",
      "metadata": {
        "colab": {
          "base_uri": "https://localhost:8080/"
        },
        "id": "aeK6-GTHBlEc",
        "outputId": "d732d7de-824a-4c1a-dcee-dff3ec11c106"
      },
      "source": [
        "for token in document:\n",
        "  print(token.text, token.pos_)"
      ],
      "execution_count": null,
      "outputs": [
        {
          "output_type": "stream",
          "text": [
            "I PRON\n",
            "am AUX\n",
            "learning VERB\n",
            "natural ADJ\n",
            "language NOUN\n",
            "processing NOUN\n",
            ". PUNCT\n",
            "The DET\n",
            "course NOUN\n",
            "is AUX\n",
            "in ADP\n",
            "London PROPN\n"
          ],
          "name": "stdout"
        }
      ]
    },
    {
      "cell_type": "markdown",
      "metadata": {
        "id": "eGd1tq7mLv_M"
      },
      "source": [
        "## Legend\n",
        "\n",
        "- lemma: \"root\" of the word\n",
        "- pos: part-of-speech  \n",
        "- tag: morfological information (present, future, past)\n",
        "- dep: syntatic dependency\n",
        "- shape: lowercase, uppercasa\n",
        "- alpha: if it is alphanumeric\n",
        "- stop: if it is a stop word"
      ]
    },
    {
      "cell_type": "code",
      "metadata": {
        "colab": {
          "base_uri": "https://localhost:8080/"
        },
        "id": "RF9DSLSmEEDN",
        "outputId": "210b7f78-dbea-4943-a2fe-ab6c89e8fe1d"
      },
      "source": [
        "for token in document:\n",
        "  print(token.text, token.pos_, token.lemma_, token.tag_, token.dep_, token.shape_, token.is_alpha, token.is_stop)"
      ],
      "execution_count": null,
      "outputs": [
        {
          "output_type": "stream",
          "text": [
            "I PRON I PRP nsubj X True True\n",
            "am AUX be VBP aux xx True True\n",
            "learning VERB learn VBG ROOT xxxx True False\n",
            "natural ADJ natural JJ amod xxxx True False\n",
            "language NOUN language NN compound xxxx True False\n",
            "processing NOUN processing NN dobj xxxx True False\n",
            ". PUNCT . . punct . False False\n",
            "The DET the DT det Xxx True True\n",
            "course NOUN course NN nsubj xxxx True False\n",
            "is AUX be VBZ ROOT xx True True\n",
            "in ADP in IN prep xx True True\n",
            "London PROPN London NNP pobj Xxxxx True False\n"
          ],
          "name": "stdout"
        }
      ]
    },
    {
      "cell_type": "code",
      "metadata": {
        "colab": {
          "base_uri": "https://localhost:8080/"
        },
        "id": "tR17CDRKE2xL",
        "outputId": "39f83f19-4e19-403b-ff53-8ff2c0cd3cc0"
      },
      "source": [
        "for token in document:\n",
        "  if token.pos_ == 'PROPN':\n",
        "    print(token.text)"
      ],
      "execution_count": null,
      "outputs": [
        {
          "output_type": "stream",
          "text": [
            "London\n"
          ],
          "name": "stdout"
        }
      ]
    },
    {
      "cell_type": "code",
      "metadata": {
        "colab": {
          "base_uri": "https://localhost:8080/"
        },
        "id": "KtENGXWUFGor",
        "outputId": "62fe0955-5a79-425f-e65e-84baadf49238"
      },
      "source": [
        "for token in document:\n",
        "  if token.pos_ == 'VERB':\n",
        "    print(token.text)"
      ],
      "execution_count": null,
      "outputs": [
        {
          "output_type": "stream",
          "text": [
            "learning\n"
          ],
          "name": "stdout"
        }
      ]
    },
    {
      "cell_type": "markdown",
      "metadata": {
        "id": "DctwAtI_NLym"
      },
      "source": [
        "# Lemmatization and stemming\n",
        "\n",
        "- Lemmatization: meaning of the word based on the dictionary (morphological analysis) - extract the base word\n",
        "- Stemming: extract the root of the word"
      ]
    },
    {
      "cell_type": "code",
      "metadata": {
        "colab": {
          "base_uri": "https://localhost:8080/"
        },
        "id": "VY0RTmRLGFNQ",
        "outputId": "d1f958fc-ed03-428b-c72c-db573dd1e2ed"
      },
      "source": [
        "for token in document:\n",
        "  print(token.text, token.lemma_)"
      ],
      "execution_count": null,
      "outputs": [
        {
          "output_type": "stream",
          "text": [
            "I I\n",
            "am be\n",
            "learning learn\n",
            "natural natural\n",
            "language language\n",
            "processing processing\n",
            ". .\n",
            "The the\n",
            "course course\n",
            "is be\n",
            "in in\n",
            "London London\n"
          ],
          "name": "stdout"
        }
      ]
    },
    {
      "cell_type": "code",
      "metadata": {
        "colab": {
          "base_uri": "https://localhost:8080/"
        },
        "id": "_P58MJ3oGscr",
        "outputId": "df8ec986-e27e-4cca-b668-7b9d9f77dc95"
      },
      "source": [
        "doc = nlp('learn learning watch watching watched')\n",
        "[token.lemma_ for token in doc]"
      ],
      "execution_count": null,
      "outputs": [
        {
          "output_type": "execute_result",
          "data": {
            "text/plain": [
              "['learn', 'learn', 'watch', 'watch', 'watch']"
            ]
          },
          "metadata": {
            "tags": []
          },
          "execution_count": 24
        }
      ]
    },
    {
      "cell_type": "markdown",
      "metadata": {
        "id": "zVz8tGTiZN6C"
      },
      "source": [
        "## Lemmatization x Stemming"
      ]
    },
    {
      "cell_type": "code",
      "metadata": {
        "id": "VRRQJNHuHwhv"
      },
      "source": [
        "import nltk"
      ],
      "execution_count": null,
      "outputs": []
    },
    {
      "cell_type": "code",
      "metadata": {
        "colab": {
          "base_uri": "https://localhost:8080/",
          "height": 37
        },
        "id": "Dli2NuD0H2mB",
        "outputId": "f77f2f8e-ee53-497f-d48d-8418eee3114f"
      },
      "source": [
        "stemmer = nltk.stem.PorterStemmer()\n",
        "stemmer.stem('learning')"
      ],
      "execution_count": null,
      "outputs": [
        {
          "output_type": "execute_result",
          "data": {
            "application/vnd.google.colaboratory.intrinsic+json": {
              "type": "string"
            },
            "text/plain": [
              "'learn'"
            ]
          },
          "metadata": {
            "tags": []
          },
          "execution_count": 26
        }
      ]
    },
    {
      "cell_type": "code",
      "metadata": {
        "colab": {
          "base_uri": "https://localhost:8080/",
          "height": 37
        },
        "id": "5zs-oRBFIIPS",
        "outputId": "272fc319-b4a9-474c-ee2d-e76e588b3784"
      },
      "source": [
        "stemmer.stem('watching')"
      ],
      "execution_count": null,
      "outputs": [
        {
          "output_type": "execute_result",
          "data": {
            "application/vnd.google.colaboratory.intrinsic+json": {
              "type": "string"
            },
            "text/plain": [
              "'watch'"
            ]
          },
          "metadata": {
            "tags": []
          },
          "execution_count": 27
        }
      ]
    },
    {
      "cell_type": "code",
      "metadata": {
        "colab": {
          "base_uri": "https://localhost:8080/"
        },
        "id": "oJUz1fzuIPe1",
        "outputId": "d0c99f37-aac4-479d-9dcb-dc70f2a7e38d"
      },
      "source": [
        "for token in document:\n",
        "  print(token.text, token.lemma_, stemmer.stem(token.text))"
      ],
      "execution_count": null,
      "outputs": [
        {
          "output_type": "stream",
          "text": [
            "I I I\n",
            "am be am\n",
            "learning learn learn\n",
            "natural natural natur\n",
            "language language languag\n",
            "processing processing process\n",
            ". . .\n",
            "The the the\n",
            "course course cours\n",
            "is be is\n",
            "in in in\n",
            "London London london\n"
          ],
          "name": "stdout"
        }
      ]
    },
    {
      "cell_type": "markdown",
      "metadata": {
        "id": "PtacHcwVZ4PH"
      },
      "source": [
        "# Named-entity recognition (NER)\n",
        "\n",
        "- List of tags: https://towardsdatascience.com/named-entity-recognition-ner-using-spacy-nlp-part-4-28da2ece57c6"
      ]
    },
    {
      "cell_type": "code",
      "metadata": {
        "id": "e33koihAMQYA"
      },
      "source": [
        "text = 'IBM is a US company on information technology. It is located in San Francisco and revenue in 2018 was approximately 320 billion dolars'"
      ],
      "execution_count": null,
      "outputs": []
    },
    {
      "cell_type": "code",
      "metadata": {
        "id": "Sw34ODrSMkuI"
      },
      "source": [
        "document = nlp(text)"
      ],
      "execution_count": null,
      "outputs": []
    },
    {
      "cell_type": "code",
      "metadata": {
        "colab": {
          "base_uri": "https://localhost:8080/"
        },
        "id": "vgTtmwvtMptB",
        "outputId": "718afd6b-7cc1-44bd-d09b-cf23b82a7074"
      },
      "source": [
        "for entity in document.ents:\n",
        "  print(entity.text, entity.label_)"
      ],
      "execution_count": null,
      "outputs": [
        {
          "output_type": "stream",
          "text": [
            "IBM ORG\n",
            "US GPE\n",
            "San Francisco GPE\n",
            "2018 DATE\n",
            "approximately 320 billion dolars MONEY\n"
          ],
          "name": "stdout"
        }
      ]
    },
    {
      "cell_type": "code",
      "metadata": {
        "colab": {
          "base_uri": "https://localhost:8080/",
          "height": 89
        },
        "id": "a6j2C5eoNbEq",
        "outputId": "484f855c-58be-41af-f9af-ac98e3be99e3"
      },
      "source": [
        "from spacy import displacy\n",
        "displacy.render(document, style = 'ent', jupyter=True)"
      ],
      "execution_count": null,
      "outputs": [
        {
          "output_type": "display_data",
          "data": {
            "text/html": [
              "<span class=\"tex2jax_ignore\"><div class=\"entities\" style=\"line-height: 2.5; direction: ltr\">\n",
              "<mark class=\"entity\" style=\"background: #7aecec; padding: 0.45em 0.6em; margin: 0 0.25em; line-height: 1; border-radius: 0.35em;\">\n",
              "    IBM\n",
              "    <span style=\"font-size: 0.8em; font-weight: bold; line-height: 1; border-radius: 0.35em; vertical-align: middle; margin-left: 0.5rem\">ORG</span>\n",
              "</mark>\n",
              " is a \n",
              "<mark class=\"entity\" style=\"background: #feca74; padding: 0.45em 0.6em; margin: 0 0.25em; line-height: 1; border-radius: 0.35em;\">\n",
              "    US\n",
              "    <span style=\"font-size: 0.8em; font-weight: bold; line-height: 1; border-radius: 0.35em; vertical-align: middle; margin-left: 0.5rem\">GPE</span>\n",
              "</mark>\n",
              " company on information technology. It is located in \n",
              "<mark class=\"entity\" style=\"background: #feca74; padding: 0.45em 0.6em; margin: 0 0.25em; line-height: 1; border-radius: 0.35em;\">\n",
              "    San Francisco\n",
              "    <span style=\"font-size: 0.8em; font-weight: bold; line-height: 1; border-radius: 0.35em; vertical-align: middle; margin-left: 0.5rem\">GPE</span>\n",
              "</mark>\n",
              " and revenue in \n",
              "<mark class=\"entity\" style=\"background: #bfe1d9; padding: 0.45em 0.6em; margin: 0 0.25em; line-height: 1; border-radius: 0.35em;\">\n",
              "    2018\n",
              "    <span style=\"font-size: 0.8em; font-weight: bold; line-height: 1; border-radius: 0.35em; vertical-align: middle; margin-left: 0.5rem\">DATE</span>\n",
              "</mark>\n",
              " was \n",
              "<mark class=\"entity\" style=\"background: #e4e7d2; padding: 0.45em 0.6em; margin: 0 0.25em; line-height: 1; border-radius: 0.35em;\">\n",
              "    approximately 320 billion dolars\n",
              "    <span style=\"font-size: 0.8em; font-weight: bold; line-height: 1; border-radius: 0.35em; vertical-align: middle; margin-left: 0.5rem\">MONEY</span>\n",
              "</mark>\n",
              "</div></span>"
            ],
            "text/plain": [
              "<IPython.core.display.HTML object>"
            ]
          },
          "metadata": {
            "tags": []
          }
        }
      ]
    },
    {
      "cell_type": "code",
      "metadata": {
        "id": "VxNOh8CWN0o4"
      },
      "source": [
        "text = 'Bill Gates was born in Seattle on 1955-10-28 and is the founder of Microsoft'"
      ],
      "execution_count": null,
      "outputs": []
    },
    {
      "cell_type": "code",
      "metadata": {
        "colab": {
          "base_uri": "https://localhost:8080/"
        },
        "id": "Uxa2YL-DN4jK",
        "outputId": "8d55783d-a8ad-47de-f92a-7fb2857f727c"
      },
      "source": [
        "document = nlp(text)\n",
        "for entity in document.ents:\n",
        "  print(entity.text, entity.label_)"
      ],
      "execution_count": null,
      "outputs": [
        {
          "output_type": "stream",
          "text": [
            "Bill Gates PERSON\n",
            "Seattle GPE\n",
            "1955-10-28 DATE\n",
            "Microsoft ORG\n"
          ],
          "name": "stdout"
        }
      ]
    },
    {
      "cell_type": "code",
      "metadata": {
        "colab": {
          "base_uri": "https://localhost:8080/",
          "height": 53
        },
        "id": "jLdxY0jKOJGR",
        "outputId": "ead10cdb-9c33-47dd-fb58-46e1e75d3182"
      },
      "source": [
        "displacy.render(document, style = 'ent', jupyter=True)"
      ],
      "execution_count": null,
      "outputs": [
        {
          "output_type": "display_data",
          "data": {
            "text/html": [
              "<span class=\"tex2jax_ignore\"><div class=\"entities\" style=\"line-height: 2.5; direction: ltr\">\n",
              "<mark class=\"entity\" style=\"background: #aa9cfc; padding: 0.45em 0.6em; margin: 0 0.25em; line-height: 1; border-radius: 0.35em;\">\n",
              "    Bill Gates\n",
              "    <span style=\"font-size: 0.8em; font-weight: bold; line-height: 1; border-radius: 0.35em; vertical-align: middle; margin-left: 0.5rem\">PERSON</span>\n",
              "</mark>\n",
              " was born in \n",
              "<mark class=\"entity\" style=\"background: #feca74; padding: 0.45em 0.6em; margin: 0 0.25em; line-height: 1; border-radius: 0.35em;\">\n",
              "    Seattle\n",
              "    <span style=\"font-size: 0.8em; font-weight: bold; line-height: 1; border-radius: 0.35em; vertical-align: middle; margin-left: 0.5rem\">GPE</span>\n",
              "</mark>\n",
              " on \n",
              "<mark class=\"entity\" style=\"background: #bfe1d9; padding: 0.45em 0.6em; margin: 0 0.25em; line-height: 1; border-radius: 0.35em;\">\n",
              "    1955-10-28\n",
              "    <span style=\"font-size: 0.8em; font-weight: bold; line-height: 1; border-radius: 0.35em; vertical-align: middle; margin-left: 0.5rem\">DATE</span>\n",
              "</mark>\n",
              " and is the founder of \n",
              "<mark class=\"entity\" style=\"background: #7aecec; padding: 0.45em 0.6em; margin: 0 0.25em; line-height: 1; border-radius: 0.35em;\">\n",
              "    Microsoft\n",
              "    <span style=\"font-size: 0.8em; font-weight: bold; line-height: 1; border-radius: 0.35em; vertical-align: middle; margin-left: 0.5rem\">ORG</span>\n",
              "</mark>\n",
              "</div></span>"
            ],
            "text/plain": [
              "<IPython.core.display.HTML object>"
            ]
          },
          "metadata": {
            "tags": []
          }
        }
      ]
    },
    {
      "cell_type": "code",
      "metadata": {
        "colab": {
          "base_uri": "https://localhost:8080/"
        },
        "id": "mdkQpP6yOM4s",
        "outputId": "7cc3b268-7ba4-4d2e-8461-8d593d5773f6"
      },
      "source": [
        "for entity in document.ents:\n",
        "  if entity.label_ == 'PERSON':\n",
        "    print(entity.text)"
      ],
      "execution_count": null,
      "outputs": [
        {
          "output_type": "stream",
          "text": [
            "Bill Gates\n"
          ],
          "name": "stdout"
        }
      ]
    },
    {
      "cell_type": "markdown",
      "metadata": {
        "id": "Gt4Rg6ekdsmF"
      },
      "source": [
        "# Stopwords"
      ]
    },
    {
      "cell_type": "markdown",
      "metadata": {
        "id": "Stg3FUaoeW4I"
      },
      "source": [
        "- Words that appear very often and don't help to understand the context of the document"
      ]
    },
    {
      "cell_type": "code",
      "metadata": {
        "colab": {
          "base_uri": "https://localhost:8080/"
        },
        "id": "BXQe96LpazZk",
        "outputId": "bfbdb5ab-7396-466f-914a-167779c6813f"
      },
      "source": [
        "# it\n",
        "from spacy.lang.fr.stop_words import STOP_WORDS\n",
        "print(STOP_WORDS)"
      ],
      "execution_count": null,
      "outputs": [
        {
          "output_type": "stream",
          "text": [
            "{'déja', 'là', 'rend', 'déjà', 'précisement', 'té', 'exactement', 'malgré', 'celles-là', 'elle-même', 'derriere', 'sent', 'si', 'peu', 'quand', 'mais', 'pres', 'seule', 'puis', 'quelconque', 'faisaient', 'deux', 'telle', 'voila', 'chez', 'envers', 'douzième', 'delà', 'dessus', 'parler', 'antérieures', 'restant', 'tente', 'a', 'ni', 'allaient', 'certaines', 'autres', 'fait', 'cinquantaine', 'la', 'cet', \"j'\", 'excepté', 'anterieure', 'mes', 'va', 'quelle', 'toi-même', 'plutot', 'dès', 'ha', 'comme', 'treize', 'antérieure', 'seraient', 'des', 'certes', 'egalement', 'onzième', 'cinquième', 'celles-la', 'après', 'entre', 'aussi', 'parle', 'ou', 'hors', 'lorsque', 'stop', 'elle', 'vas', 'le', 'douze', \"n'\", 'abord', 'duquel', 'trente', 'notamment', 'differents', 'un', 'juste', 'pourrait', 'seront', 'selon', 'toi-meme', 'auxquels', 'dejà', 'retour', 'sa', 'outre', 'mienne', 'telles', 'tiens', 'faisant', 'elles-mêmes', 'jusqu', 'que', 'celui-là', 'leur', 'ceux', 'hé', 'tout', 'diverse', 'ton', 'cinquante', 'precisement', 'uns', 'son', 'tels', 'elles-memes', 'semblable', 'me', 'restent', 'suivants', 'vu', 'depuis', 'dit', 'moindres', 'votres', 'trois', 'lès', 'certain', 'celle-là', 'j’', 'dix-huit', 'nouveau', 'eux-mêmes', 'dire', 'ès', 'avec', 'eu', 'tes', 'aura', 'basee', 'suffisante', 'vont', 'as', 'sixième', 'étaient', 'sera', \"s'\", 'tres', 'cette', 'ci', 'où', 'different', 'ceux-là', 'bas', 'parfois', 'suffit', 'celle', 'tu', 'nombreux', 'seules', 'avaient', 'c’', 'de', 'celles-ci', 'quatre', 'pu', 'sur', 'bat', 'ainsi', 'quatrième', 'derrière', 'onze', 'seulement', 'très', 'façon', 'revoici', 'pouvait', 'on', 'effet', 'specifique', 'lui-même', 'te', 'nôtre', 'deuxièmement', 'meme', 'prealable', 'debout', 'hi', 'es', \"d'\", 'laquelle', 'ta', 'sept', 'd’', 'longtemps', 'ouverts', 'divers', 'lesquels', 'ne', 'quinze', 'lui-meme', 'lui', 'du', 'desquelles', 'avoir', 'doivent', 'néanmoins', 'quiconque', 'souvent', 'celui', 'quels', 'devant', 'soixante', 'o', 'gens', 'ils', 'maintenant', 'nombreuses', 'seuls', 'aie', 'sienne', 'soi-même', 'dite', 'troisième', 'mien', 'encore', 'peux', 'quoi', 'autrui', 'cinq', 'sans', 'il', 'car', 'ho', 'tiennes', 'dits', 'neuvième', 'ont', 'etc', 'chaque', 'au', 'chacune', 'différent', 'aurait', 'facon', 'hui', 'seul', 'également', 'votre', 'toute', 'tellement', 'était', 'sous', 'diverses', 'sauf', 'soi-meme', 'suit', 'qu’', 'vous-mêmes', 'vais', 'procedant', 'revoilà', 'dehors', 'sien', 'lequel', 'celle-la', 'assez', 'hormis', 'anterieures', 'nos', 'nôtres', 'miens', 'près', 'ceux-ci', 'aupres', 'premier', 'eh', 'elles', 'siens', 'toi', 'antérieur', 'dont', 'dix', 'différentes', 'ce', 'pense', 'tend', 'autre', 'etant', 'vôtres', 'environ', 'sinon', 'etais', 'etait', 'hep', 'siennes', 'suivre', 'huit', 'tous', 'nous-mêmes', 'parce', 'permet', 'or', 'serait', 'ayant', 'suivantes', \"l'\", 'vers', 'differentes', 'cela', 'celles', 'celui-la', 'm’', 'quelles', \"t'\", 'malgre', 'soi', 'allons', 'pendant', \"quelqu'un\", 'devers', 'lesquelles', 'reste', 'moins', 'mon', 'combien', 'et', 'suis', 'ai', 'ouias', 'suivant', 'même', 'via', 'dessous', 'revoila', 'quarante', 'six', 'peut', 'houp', 'est', 'se', 'hue', 'ceci', 'parlent', 'specifiques', 'partant', 'pour', 'maint', 'auxquelles', 'parmi', 'plutôt', 'avait', 'devra', 'vé', 'par', 'neanmoins', 'ait', 'anterieur', 'unes', 'surtout', 'certaine', 'concernant', 'afin', 'sait', 'ouverte', 'étant', 'moi-même', 'notre', 'pourquoi', 'directe', 'nous', 'compris', 'spécifiques', 'pourrais', 'dixième', 'autrement', 'seize', 'dans', 'â', 'sont', 'cependant', 'merci', 'doit', 'proche', \"qu'\", 'vos', 'etaient', 'nul', 'lors', 'l’', 'dedans', 'desquels', 'avons', 'dix-sept', 'moi', 'toutes', 'quant', 'touchant', 'quel', 'pas', 'dix-neuf', 'attendu', 'vous', 'directement', 'deuxième', 'quatre-vingt', 'apres', 'y', 'tant', 'troisièmement', 'auraient', 'deja', 'je', 'certains', 'étais', 'moi-meme', 'avais', 'durant', 'ça', 'les', 'semble', 'enfin', 'memes', 'desormais', 'celle-ci', 'hem', 'ah', 'possibles', 'mille', 'ma', 'ces', 'voici', 'cinquantième', 'eux', 'tenir', 'i', 'soit', 'voilà', 'désormais', 'jusque', 'celui-ci', 'importe', 'relativement', 'etre', 'feront', 'avant', 'font', 'da', 'semblaient', 'mêmes', \"m'\", 'possible', 'puisque', 'premièrement', 'tenant', 'auquel', 'n’', 'quatorze', 'qui', 'leurs', 'tienne', 'aux', 'vingt', 'peuvent', 'hou', 'ouvert', 'na', \"c'\", 'auront', 'miennes', 'spécifique', 'toujours', 'être', 'semblent', 'comment', 'ses', 'une', 'en', 'septième', 'préalable', 'quatrièmement', 'quelque', 'différents', 'plusieurs', 'suffisant', 'chacun', 'vôtre', 'differente', 'quelques', 'rendre', 'suivante', 'plus', 'cent', 'quoique', 'première', 's’', 'relative', 'donc', 'fais', 'laisser', 'elle-meme', 'à', 'huitième', 'alors', 'tien', 't’', 'quant-à-soi', 'personne', 'ouste', 'tel', 'différente', 'ô'}\n"
          ],
          "name": "stdout"
        }
      ]
    },
    {
      "cell_type": "code",
      "metadata": {
        "colab": {
          "base_uri": "https://localhost:8080/"
        },
        "id": "Yq13vWH4bhTh",
        "outputId": "d8409c47-df08-4a4a-fb98-62ddcc2e31e2"
      },
      "source": [
        "from spacy.lang.pt.stop_words import STOP_WORDS\n",
        "print(STOP_WORDS)"
      ],
      "execution_count": null,
      "outputs": [
        {
          "output_type": "stream",
          "text": [
            "{'mesmo', 'grupo', 'atrás', 'às', 'meio', 'saber', 'nada', 'desta', 'ambos', 'quem', 'então', 'porquanto', 'inclusive', 'todas', 'sua', 'mais', 'pouca', 'dizer', 'nove', 'vosso', 'os', 'tudo', 'tais', 'local', 'elas', 'tente', 'a', 'isto', 'qual', 'partir', 'acerca', 'devem', 'cujo', 'através', 'pelo', 'momento', 'embora', 'área', 'todo', 'todos', 'baixo', 'lhe', 'falta', 'número', 'sabe', 'zero', 'des', 'tive', 'pôde', 'certamente', 'entre', 'como', 'após', 'geral', 'estará', 'ou', 'aí', 'pois', 'favor', 'meses', 'no', 'tens', 'estiveram', 'pode', 'tivemos', 'sete', 'parece', 'apenas', 'conselho', 'ligado', 'ver', 'alguns', 'já', 'diz', 'valor', 'talvez', 'vai', 'ainda', 'poderá', 'mal', 'fui', 'ter', 'quieta', 'ali', 'não', 'sétimo', 'posição', 'tua', 'deverá', 'daquela', 'que', 'muito', 'nas', 'sob', 'nova', 'possível', 'vós', 'primeira', 'nunca', 'uns', 'me', 'aos', 'nível', 'debaixo', 'dez', 'faço', 'longe', 'seus', 'caminho', 'teus', 'esse', 'eu', 'fostes', 'novos', 'usar', 'dar', 'fará', 'as', 'vocês', 'naquele', 'fora', 'foi', 'tu', 'apoio', 'coisa', 'de', 'estar', 'nesta', 'estás', 'sem', 'mês', 'possivelmente', 'somente', 'onze', 'cuja', 'tentaram', 'está', 'qualquer', 'meus', 'te', 'sei', 'daquele', 'dezanove', 'aquele', 'dos', 'iniciar', 'comprida', 'cada', 'mil', 'suas', 'algo', 'certeza', 'em', 'quinze', 'diante', 'duas', 'põe', 'esteve', 'quê', 'menor', 'é', 'fazer', 'boa', 'nesse', 'o', 'estado', 'maioria', 'toda', 'aquela', 'estas', 'breve', 'somos', 'porém', 'ela', 'estão', 'sim', 'dezassete', 'próxima', 'fim', 'relação', 'custa', 'sempre', 'quando', 'seria', 'desse', 'minha', 'doze', 'dezoito', 'sexto', 'tal', 'pegar', 'eles', 'vais', 'antes', 'quieto', 'tem', 'essa', 'tivestes', 'dão', 'fazeis', 'nos', 'comprido', 'esta', 'agora', 'um', 'cedo', 'terceira', 'máximo', 'vossa', 'estava', 'tanto', 'oito', 'último', 'quais', 'seu', 'vem', 'foste', 'podem', 'oitavo', 'questão', 'disso', 'dessa', 'portanto', 'posso', 'bom', 'puderam', 'pelas', 'deste', 'porque', 'naquela', 'logo', 'vez', 'ora', 'tuas', 'minhas', 'pela', 'estivemos', 'além', 'neste', 'treze', 'quarta', 'desde', 'meu', 'nenhuma', 'direita', 'nossas', 'do', 'novo', 'lugar', 'outros', 'se', 'adeus', 'sobre', 'tiveram', 'quatro', 'parte', 'estou', 'aquilo', 'tenho', 'perto', 'contra', 'ir', 'nós', 'grandes', 'nem', 'aqueles', 'tarde', 'temos', 'nessa', 'conhecida', 'outra', 'vinda', 'próximo', 'estiveste', 'para', 'vários', 'fazemos', 'aquelas', 'bem', 'lado', 'nuns', 'próprio', 'sexta', 'novas', 'veja', 'eventual', 'são', 'estive', 'sou', 'cento', 'dentro', 'obrigado', 'vinte', 'depois', 'tiveste', 'maior', 'era', 'exemplo', 'quinta', 'corrente', 'fomos', 'vos', 'estivestes', 'irá', 'dizem', 'fazem', 'obrigada', 'pouco', 'tão', 'sois', 'outras', 'inicio', 'vêm', 'têm', 'nossos', 'contudo', 'também', 'vão', 'teve', 'nosso', 'cá', 'cinco', 'vezes', 'isso', 'quarto', 'fez', 'lá', 'teu', 'bastante', 'muitos', 'com', 'essas', 'tendes', 'povo', 'catorze', 'sistema', 'ponto', 'dá', 'até', 'ser', 'oitava', 'só', 'tentar', 'segunda', 'pontos', 'onde', 'umas', 'numa', 'da', 'das', 'põem', 'apontar', 'fazes', 'aqui', 'você', 'assim', 'grande', 'tipo', 'tempo', 'apoia', 'menos', 'vindo', 'por', 'vossos', 'num', 'és', 'na', 'ontem', 'fazia', 'primeiro', 'estes', 'ademais', 'enquanto', 'uma', 'quinto', 'mas', 'tanta', 'ambas', 'vossas', 'ele', 'vens', 'sétima', 'poder', 'deve', 'quanto', 'forma', 'terceiro', 'segundo', 'conhecido', 'final', 'quer', 'usa', 'porquê', 'três', 'dois', 'e', 'pelos', 'seis', 'números', 'podia', 'cima', 'foram', 'este', 'dezasseis', 'nossa', 'à', 'demais', 'maiorias', 'querem', 'quero', 'esses', 'tentei', 'ao', 'faz', 'algumas', 'for'}\n"
          ],
          "name": "stdout"
        }
      ]
    },
    {
      "cell_type": "code",
      "metadata": {
        "colab": {
          "base_uri": "https://localhost:8080/"
        },
        "id": "ybJ7PZsQboQo",
        "outputId": "e8e8174e-941a-444b-d11e-1f791229ca7d"
      },
      "source": [
        "from spacy.lang.en.stop_words import STOP_WORDS\n",
        "print(STOP_WORDS)"
      ],
      "execution_count": null,
      "outputs": [
        {
          "output_type": "stream",
          "text": [
            "{'well', 'the', 'with', 'among', 'ourselves', 'whatever', '‘ll', 'be', 'even', '’ll', 'across', 'fifty', 'call', 'eleven', 'whom', 'here', 'still', 'much', 'least', 'five', 'side', 'often', 'a', 'however', 'unless', 'thereupon', 'becomes', 'you', 'twenty', 'own', 'less', 'last', 'namely', 'will', 'how', 'toward', 'after', 'forty', 'four', 'hundred', 'until', 'could', 'anyone', 'all', 'keep', 'no', 'anywhere', 'thereafter', 'used', 'us', 'whoever', 'off', 'n‘t', 'thus', 'while', 'front', 'am', 'himself', 'already', 'someone', '‘d', 'otherwise', 'nor', 'if', 'does', 'regarding', 'top', 'me', 'wherein', 'none', 'whereupon', 'whence', 'many', 'quite', 'whenever', 'herself', 'everyone', 'fifteen', 'what', 'hereafter', \"'s\", 'some', 're', 'too', 'both', 'as', 'moreover', 'anyhow', 'show', 'of', 'twelve', 'itself', 'above', 'did', 'indeed', \"'ve\", 'several', 'made', 'to', 'our', 'doing', 'herein', 'using', 'anyway', 'on', 'down', 'more', 'nobody', 'most', 'out', 'whereas', 'elsewhere', 'they', 'is', 'an', 'see', 'hereupon', 'though', 'somewhere', 'any', 'whereafter', 'without', 'few', 'name', 'put', 'these', 'serious', 'per', 'it', 'somehow', 'which', 'beside', 'thru', 'in', 'through', 'always', 'them', 'those', 'due', 'then', 'around', 'take', 'therefore', 'must', 'various', 'ca', 'myself', 'either', 'your', 'same', 'about', 'really', 'seem', 'became', 'done', 'first', 'whither', 'over', 'were', '’m', 'my', '‘s', 'since', 'becoming', 'whether', \"'re\", 'full', 'whole', 'was', 'or', 'at', 'together', 'seemed', 'cannot', 'who', 'within', 'from', 'enough', 'yours', 'bottom', 'seems', 'almost', 'former', 'and', 'afterwards', 'via', 'do', 'go', 'six', 'thereby', 'else', 'eight', 'by', 'hereby', 'mine', 'get', 'yet', 'ever', 'whereby', 'everywhere', '’d', 'their', 'move', 'up', 'she', 'why', 'such', 'but', 'there', 'him', 'sometime', 'third', 'seeming', 'against', 'that', 'would', 'sometimes', 'except', 'latter', 'formerly', 'sixty', 'whose', 'along', 'very', 'been', 'one', 'everything', 'now', 'part', '’ve', 'has', 'alone', 'when', 'onto', 'nothing', 'please', '’s', 'yourselves', 'give', 'can', 'each', 'hence', 'wherever', 'besides', 'thence', 'may', 'make', 'never', 'mostly', 'beforehand', 'her', 'another', 'under', 'being', 'three', 'we', 'also', 'back', 'nine', 'every', 'i', 'had', 'again', 'amount', 'something', 'so', 'once', 'because', 'noone', 'during', 'therein', 'say', 'upon', 'towards', 'yourself', 'next', 'throughout', '‘m', \"n't\", 'perhaps', 'n’t', 'have', 'are', 'not', 'nowhere', 'although', 'might', 'anything', \"'m\", 'hers', '’re', \"'d\", 'become', 'amongst', 'other', 'between', 'beyond', 'further', 'empty', 'nevertheless', 'others', 'his', \"'ll\", 'before', 'below', 'ours', '‘ve', 'meanwhile', 'rather', 'latterly', 'two', 'where', 'only', 'should', 'into', 'ten', '‘re', 'he', 'its', 'just', 'neither', 'this', 'for', 'behind', 'than', 'themselves'}\n"
          ],
          "name": "stdout"
        }
      ]
    },
    {
      "cell_type": "code",
      "metadata": {
        "colab": {
          "base_uri": "https://localhost:8080/"
        },
        "id": "P9rT-WYEcOR1",
        "outputId": "f487e5b6-eb3d-4c9c-cad0-03d641a74133"
      },
      "source": [
        "'it' in STOP_WORDS"
      ],
      "execution_count": null,
      "outputs": [
        {
          "output_type": "execute_result",
          "data": {
            "text/plain": [
              "True"
            ]
          },
          "metadata": {
            "tags": []
          },
          "execution_count": 43
        }
      ]
    },
    {
      "cell_type": "code",
      "metadata": {
        "colab": {
          "base_uri": "https://localhost:8080/"
        },
        "id": "o3JizS7ucXOg",
        "outputId": "d98c3f87-0c43-49b1-cefc-e6b29c73937c"
      },
      "source": [
        "len(STOP_WORDS)"
      ],
      "execution_count": null,
      "outputs": [
        {
          "output_type": "execute_result",
          "data": {
            "text/plain": [
              "326"
            ]
          },
          "metadata": {
            "tags": []
          },
          "execution_count": 44
        }
      ]
    },
    {
      "cell_type": "code",
      "metadata": {
        "colab": {
          "base_uri": "https://localhost:8080/"
        },
        "id": "qYuBdsC0ceDY",
        "outputId": "81b85a49-0372-4cfe-b122-18fdb3e0467c"
      },
      "source": [
        "nlp.vocab['it'].is_stop"
      ],
      "execution_count": null,
      "outputs": [
        {
          "output_type": "execute_result",
          "data": {
            "text/plain": [
              "True"
            ]
          },
          "metadata": {
            "tags": []
          },
          "execution_count": 45
        }
      ]
    },
    {
      "cell_type": "code",
      "metadata": {
        "colab": {
          "base_uri": "https://localhost:8080/"
        },
        "id": "C0ABM-TocpNb",
        "outputId": "a6dc8cb0-7701-49cc-d8e5-b1b02c83daa6"
      },
      "source": [
        "nlp.vocab['walk'].is_stop"
      ],
      "execution_count": null,
      "outputs": [
        {
          "output_type": "execute_result",
          "data": {
            "text/plain": [
              "False"
            ]
          },
          "metadata": {
            "tags": []
          },
          "execution_count": 46
        }
      ]
    },
    {
      "cell_type": "code",
      "metadata": {
        "id": "yexaaSCQct_X"
      },
      "source": [
        "document = nlp('I am learning natural language processing. The course is in London')"
      ],
      "execution_count": null,
      "outputs": []
    },
    {
      "cell_type": "code",
      "metadata": {
        "colab": {
          "base_uri": "https://localhost:8080/"
        },
        "id": "9bgjx9aVc27u",
        "outputId": "8c42e0eb-f7ad-4e00-a2b1-cc2be797be92"
      },
      "source": [
        "for token in document:\n",
        "  if nlp.vocab[token.text].is_stop:\n",
        "    print(token.text)"
      ],
      "execution_count": null,
      "outputs": [
        {
          "output_type": "stream",
          "text": [
            "I\n",
            "am\n",
            "The\n",
            "is\n",
            "in\n"
          ],
          "name": "stdout"
        }
      ]
    },
    {
      "cell_type": "code",
      "metadata": {
        "colab": {
          "base_uri": "https://localhost:8080/"
        },
        "id": "r-quiPPzdHGG",
        "outputId": "67e89e8f-0c09-41c6-d5a3-18682c8f96e3"
      },
      "source": [
        "for token in document:\n",
        "  if not nlp.vocab[token.text].is_stop:\n",
        "    print(token.text)"
      ],
      "execution_count": null,
      "outputs": [
        {
          "output_type": "stream",
          "text": [
            "learning\n",
            "natural\n",
            "language\n",
            "processing\n",
            ".\n",
            "course\n",
            "London\n"
          ],
          "name": "stdout"
        }
      ]
    },
    {
      "cell_type": "markdown",
      "metadata": {
        "id": "Xi7gpbH1fwvM"
      },
      "source": [
        "# Dependency parsing\n",
        "\n",
        "- Parent-child relation"
      ]
    },
    {
      "cell_type": "markdown",
      "metadata": {
        "id": "BVzGp1zLohyU"
      },
      "source": [
        "## Example 1"
      ]
    },
    {
      "cell_type": "code",
      "metadata": {
        "id": "e95Zpk5feJJa"
      },
      "source": [
        "document = nlp('book a ticket from London to Paris')"
      ],
      "execution_count": null,
      "outputs": []
    },
    {
      "cell_type": "code",
      "metadata": {
        "colab": {
          "base_uri": "https://localhost:8080/"
        },
        "id": "8JB8R0g8efwr",
        "outputId": "df5c4537-944c-45c4-c87d-2404e5405456"
      },
      "source": [
        "origin = document[4]\n",
        "destiny = document[6]\n",
        "print(origin, destiny)"
      ],
      "execution_count": null,
      "outputs": [
        {
          "output_type": "stream",
          "text": [
            "London Paris\n"
          ],
          "name": "stdout"
        }
      ]
    },
    {
      "cell_type": "code",
      "metadata": {
        "colab": {
          "base_uri": "https://localhost:8080/"
        },
        "id": "3tKyQa_XfE7S",
        "outputId": "02503ca7-9ae6-4005-9a4c-44f8aa457638"
      },
      "source": [
        "list(origin.ancestors)"
      ],
      "execution_count": null,
      "outputs": [
        {
          "output_type": "execute_result",
          "data": {
            "text/plain": [
              "[from, ticket, book]"
            ]
          },
          "metadata": {
            "tags": []
          },
          "execution_count": 54
        }
      ]
    },
    {
      "cell_type": "code",
      "metadata": {
        "colab": {
          "base_uri": "https://localhost:8080/"
        },
        "id": "Iwp-5bBifUO-",
        "outputId": "2f3fcd4a-3002-4ca7-e8e0-ee4364df0015"
      },
      "source": [
        "list(destiny.ancestors)"
      ],
      "execution_count": null,
      "outputs": [
        {
          "output_type": "execute_result",
          "data": {
            "text/plain": [
              "[to, ticket, book]"
            ]
          },
          "metadata": {
            "tags": []
          },
          "execution_count": 55
        }
      ]
    },
    {
      "cell_type": "code",
      "metadata": {
        "colab": {
          "base_uri": "https://localhost:8080/"
        },
        "id": "XMTuLuEefy2G",
        "outputId": "b94ea227-0794-40da-c427-a79cad702d8b"
      },
      "source": [
        "document[0].is_ancestor(document[2])"
      ],
      "execution_count": null,
      "outputs": [
        {
          "output_type": "execute_result",
          "data": {
            "text/plain": [
              "True"
            ]
          },
          "metadata": {
            "tags": []
          },
          "execution_count": 56
        }
      ]
    },
    {
      "cell_type": "markdown",
      "metadata": {
        "id": "i5j9bqKvokEj"
      },
      "source": [
        "## Example 2"
      ]
    },
    {
      "cell_type": "code",
      "metadata": {
        "id": "5hdgRY3LhKeI"
      },
      "source": [
        "document = nlp('Book a table for the restaurant and a taxi to the hotel')"
      ],
      "execution_count": null,
      "outputs": []
    },
    {
      "cell_type": "code",
      "metadata": {
        "colab": {
          "base_uri": "https://localhost:8080/"
        },
        "id": "G9QBqL6HhglH",
        "outputId": "d59b56a9-d089-49ae-ccfe-b104e301e85f"
      },
      "source": [
        "tasks = document[2], document[8]\n",
        "locations = document[5], document[11]\n",
        "print(tasks, locations)"
      ],
      "execution_count": null,
      "outputs": [
        {
          "output_type": "stream",
          "text": [
            "(table, taxi) (restaurant, hotel)\n"
          ],
          "name": "stdout"
        }
      ]
    },
    {
      "cell_type": "code",
      "metadata": {
        "colab": {
          "base_uri": "https://localhost:8080/"
        },
        "id": "MM8jh7dTiCNm",
        "outputId": "00b85225-87ed-4152-c6b1-1cf61b9be445"
      },
      "source": [
        "for local in locations:\n",
        "  print('-----', local)\n",
        "  for obj in local.ancestors:\n",
        "    print(obj)"
      ],
      "execution_count": null,
      "outputs": [
        {
          "output_type": "stream",
          "text": [
            "----- restaurant\n",
            "for\n",
            "table\n",
            "Book\n",
            "----- hotel\n",
            "to\n",
            "taxi\n",
            "restaurant\n",
            "for\n",
            "table\n",
            "Book\n"
          ],
          "name": "stdout"
        }
      ]
    },
    {
      "cell_type": "code",
      "metadata": {
        "colab": {
          "base_uri": "https://localhost:8080/"
        },
        "id": "RWcjVrRJio5t",
        "outputId": "978e4d33-5e19-4cca-a7a7-e968aa67be10"
      },
      "source": [
        "for local in locations:\n",
        "  for obj in local.ancestors:\n",
        "    if obj in tasks:\n",
        "      print('Reservation of a {} to the {}'.format(obj, local))\n",
        "      break"
      ],
      "execution_count": null,
      "outputs": [
        {
          "output_type": "stream",
          "text": [
            "Reservation of a table to the restaurant\n",
            "Reservation of a taxi to the hotel\n"
          ],
          "name": "stdout"
        }
      ]
    },
    {
      "cell_type": "code",
      "metadata": {
        "colab": {
          "base_uri": "https://localhost:8080/"
        },
        "id": "Kp_tThXLjdy_",
        "outputId": "17554760-9cfa-4e45-fdce-cbe4091d51b3"
      },
      "source": [
        "list(document[5].children)"
      ],
      "execution_count": null,
      "outputs": [
        {
          "output_type": "execute_result",
          "data": {
            "text/plain": [
              "[the, and, taxi]"
            ]
          },
          "metadata": {
            "tags": []
          },
          "execution_count": 68
        }
      ]
    },
    {
      "cell_type": "markdown",
      "metadata": {
        "id": "NRXWYfXbol9-"
      },
      "source": [
        "## Example 3"
      ]
    },
    {
      "cell_type": "code",
      "metadata": {
        "id": "oXN7x26YmJ2o"
      },
      "source": [
        "from spacy import displacy"
      ],
      "execution_count": null,
      "outputs": []
    },
    {
      "cell_type": "code",
      "metadata": {
        "id": "Dq1qRfnnmRC4"
      },
      "source": [
        "document = nlp('Book a table for the restaurant and a taxi to the hotel')"
      ],
      "execution_count": null,
      "outputs": []
    },
    {
      "cell_type": "code",
      "metadata": {
        "colab": {
          "base_uri": "https://localhost:8080/",
          "height": 313
        },
        "id": "epl4PdIZmYZP",
        "outputId": "275769ba-1bd2-4def-8b89-fd2ad8192e5e"
      },
      "source": [
        "displacy.render(document, style='dep', jupyter=True, options={'distance': 90})"
      ],
      "execution_count": null,
      "outputs": [
        {
          "output_type": "display_data",
          "data": {
            "text/html": [
              "<span class=\"tex2jax_ignore\"><svg xmlns=\"http://www.w3.org/2000/svg\" xmlns:xlink=\"http://www.w3.org/1999/xlink\" xml:lang=\"en\" id=\"9b12930d491b4f9a9b8c981015ccf9a8-0\" class=\"displacy\" width=\"1130\" height=\"272.0\" direction=\"ltr\" style=\"max-width: none; height: 272.0px; color: #000000; background: #ffffff; font-family: Arial; direction: ltr\">\n",
              "<text class=\"displacy-token\" fill=\"currentColor\" text-anchor=\"middle\" y=\"182.0\">\n",
              "    <tspan class=\"displacy-word\" fill=\"currentColor\" x=\"50\">Book</tspan>\n",
              "    <tspan class=\"displacy-tag\" dy=\"2em\" fill=\"currentColor\" x=\"50\">PROPN</tspan>\n",
              "</text>\n",
              "\n",
              "<text class=\"displacy-token\" fill=\"currentColor\" text-anchor=\"middle\" y=\"182.0\">\n",
              "    <tspan class=\"displacy-word\" fill=\"currentColor\" x=\"140\">a</tspan>\n",
              "    <tspan class=\"displacy-tag\" dy=\"2em\" fill=\"currentColor\" x=\"140\">DET</tspan>\n",
              "</text>\n",
              "\n",
              "<text class=\"displacy-token\" fill=\"currentColor\" text-anchor=\"middle\" y=\"182.0\">\n",
              "    <tspan class=\"displacy-word\" fill=\"currentColor\" x=\"230\">table</tspan>\n",
              "    <tspan class=\"displacy-tag\" dy=\"2em\" fill=\"currentColor\" x=\"230\">NOUN</tspan>\n",
              "</text>\n",
              "\n",
              "<text class=\"displacy-token\" fill=\"currentColor\" text-anchor=\"middle\" y=\"182.0\">\n",
              "    <tspan class=\"displacy-word\" fill=\"currentColor\" x=\"320\">for</tspan>\n",
              "    <tspan class=\"displacy-tag\" dy=\"2em\" fill=\"currentColor\" x=\"320\">ADP</tspan>\n",
              "</text>\n",
              "\n",
              "<text class=\"displacy-token\" fill=\"currentColor\" text-anchor=\"middle\" y=\"182.0\">\n",
              "    <tspan class=\"displacy-word\" fill=\"currentColor\" x=\"410\">the</tspan>\n",
              "    <tspan class=\"displacy-tag\" dy=\"2em\" fill=\"currentColor\" x=\"410\">DET</tspan>\n",
              "</text>\n",
              "\n",
              "<text class=\"displacy-token\" fill=\"currentColor\" text-anchor=\"middle\" y=\"182.0\">\n",
              "    <tspan class=\"displacy-word\" fill=\"currentColor\" x=\"500\">restaurant</tspan>\n",
              "    <tspan class=\"displacy-tag\" dy=\"2em\" fill=\"currentColor\" x=\"500\">NOUN</tspan>\n",
              "</text>\n",
              "\n",
              "<text class=\"displacy-token\" fill=\"currentColor\" text-anchor=\"middle\" y=\"182.0\">\n",
              "    <tspan class=\"displacy-word\" fill=\"currentColor\" x=\"590\">and</tspan>\n",
              "    <tspan class=\"displacy-tag\" dy=\"2em\" fill=\"currentColor\" x=\"590\">CCONJ</tspan>\n",
              "</text>\n",
              "\n",
              "<text class=\"displacy-token\" fill=\"currentColor\" text-anchor=\"middle\" y=\"182.0\">\n",
              "    <tspan class=\"displacy-word\" fill=\"currentColor\" x=\"680\">a</tspan>\n",
              "    <tspan class=\"displacy-tag\" dy=\"2em\" fill=\"currentColor\" x=\"680\">DET</tspan>\n",
              "</text>\n",
              "\n",
              "<text class=\"displacy-token\" fill=\"currentColor\" text-anchor=\"middle\" y=\"182.0\">\n",
              "    <tspan class=\"displacy-word\" fill=\"currentColor\" x=\"770\">taxi</tspan>\n",
              "    <tspan class=\"displacy-tag\" dy=\"2em\" fill=\"currentColor\" x=\"770\">NOUN</tspan>\n",
              "</text>\n",
              "\n",
              "<text class=\"displacy-token\" fill=\"currentColor\" text-anchor=\"middle\" y=\"182.0\">\n",
              "    <tspan class=\"displacy-word\" fill=\"currentColor\" x=\"860\">to</tspan>\n",
              "    <tspan class=\"displacy-tag\" dy=\"2em\" fill=\"currentColor\" x=\"860\">ADP</tspan>\n",
              "</text>\n",
              "\n",
              "<text class=\"displacy-token\" fill=\"currentColor\" text-anchor=\"middle\" y=\"182.0\">\n",
              "    <tspan class=\"displacy-word\" fill=\"currentColor\" x=\"950\">the</tspan>\n",
              "    <tspan class=\"displacy-tag\" dy=\"2em\" fill=\"currentColor\" x=\"950\">DET</tspan>\n",
              "</text>\n",
              "\n",
              "<text class=\"displacy-token\" fill=\"currentColor\" text-anchor=\"middle\" y=\"182.0\">\n",
              "    <tspan class=\"displacy-word\" fill=\"currentColor\" x=\"1040\">hotel</tspan>\n",
              "    <tspan class=\"displacy-tag\" dy=\"2em\" fill=\"currentColor\" x=\"1040\">NOUN</tspan>\n",
              "</text>\n",
              "\n",
              "<g class=\"displacy-arrow\">\n",
              "    <path class=\"displacy-arc\" id=\"arrow-9b12930d491b4f9a9b8c981015ccf9a8-0-0\" stroke-width=\"2px\" d=\"M160,137.0 C160,92.0 220.0,92.0 220.0,137.0\" fill=\"none\" stroke=\"currentColor\"/>\n",
              "    <text dy=\"1.25em\" style=\"font-size: 0.8em; letter-spacing: 1px\">\n",
              "        <textPath xlink:href=\"#arrow-9b12930d491b4f9a9b8c981015ccf9a8-0-0\" class=\"displacy-label\" startOffset=\"50%\" side=\"left\" fill=\"currentColor\" text-anchor=\"middle\">det</textPath>\n",
              "    </text>\n",
              "    <path class=\"displacy-arrowhead\" d=\"M160,139.0 L152,127.0 168,127.0\" fill=\"currentColor\"/>\n",
              "</g>\n",
              "\n",
              "<g class=\"displacy-arrow\">\n",
              "    <path class=\"displacy-arc\" id=\"arrow-9b12930d491b4f9a9b8c981015ccf9a8-0-1\" stroke-width=\"2px\" d=\"M70,137.0 C70,47.0 225.0,47.0 225.0,137.0\" fill=\"none\" stroke=\"currentColor\"/>\n",
              "    <text dy=\"1.25em\" style=\"font-size: 0.8em; letter-spacing: 1px\">\n",
              "        <textPath xlink:href=\"#arrow-9b12930d491b4f9a9b8c981015ccf9a8-0-1\" class=\"displacy-label\" startOffset=\"50%\" side=\"left\" fill=\"currentColor\" text-anchor=\"middle\">appos</textPath>\n",
              "    </text>\n",
              "    <path class=\"displacy-arrowhead\" d=\"M225.0,139.0 L233.0,127.0 217.0,127.0\" fill=\"currentColor\"/>\n",
              "</g>\n",
              "\n",
              "<g class=\"displacy-arrow\">\n",
              "    <path class=\"displacy-arc\" id=\"arrow-9b12930d491b4f9a9b8c981015ccf9a8-0-2\" stroke-width=\"2px\" d=\"M250,137.0 C250,92.0 310.0,92.0 310.0,137.0\" fill=\"none\" stroke=\"currentColor\"/>\n",
              "    <text dy=\"1.25em\" style=\"font-size: 0.8em; letter-spacing: 1px\">\n",
              "        <textPath xlink:href=\"#arrow-9b12930d491b4f9a9b8c981015ccf9a8-0-2\" class=\"displacy-label\" startOffset=\"50%\" side=\"left\" fill=\"currentColor\" text-anchor=\"middle\">prep</textPath>\n",
              "    </text>\n",
              "    <path class=\"displacy-arrowhead\" d=\"M310.0,139.0 L318.0,127.0 302.0,127.0\" fill=\"currentColor\"/>\n",
              "</g>\n",
              "\n",
              "<g class=\"displacy-arrow\">\n",
              "    <path class=\"displacy-arc\" id=\"arrow-9b12930d491b4f9a9b8c981015ccf9a8-0-3\" stroke-width=\"2px\" d=\"M430,137.0 C430,92.0 490.0,92.0 490.0,137.0\" fill=\"none\" stroke=\"currentColor\"/>\n",
              "    <text dy=\"1.25em\" style=\"font-size: 0.8em; letter-spacing: 1px\">\n",
              "        <textPath xlink:href=\"#arrow-9b12930d491b4f9a9b8c981015ccf9a8-0-3\" class=\"displacy-label\" startOffset=\"50%\" side=\"left\" fill=\"currentColor\" text-anchor=\"middle\">det</textPath>\n",
              "    </text>\n",
              "    <path class=\"displacy-arrowhead\" d=\"M430,139.0 L422,127.0 438,127.0\" fill=\"currentColor\"/>\n",
              "</g>\n",
              "\n",
              "<g class=\"displacy-arrow\">\n",
              "    <path class=\"displacy-arc\" id=\"arrow-9b12930d491b4f9a9b8c981015ccf9a8-0-4\" stroke-width=\"2px\" d=\"M340,137.0 C340,47.0 495.0,47.0 495.0,137.0\" fill=\"none\" stroke=\"currentColor\"/>\n",
              "    <text dy=\"1.25em\" style=\"font-size: 0.8em; letter-spacing: 1px\">\n",
              "        <textPath xlink:href=\"#arrow-9b12930d491b4f9a9b8c981015ccf9a8-0-4\" class=\"displacy-label\" startOffset=\"50%\" side=\"left\" fill=\"currentColor\" text-anchor=\"middle\">pobj</textPath>\n",
              "    </text>\n",
              "    <path class=\"displacy-arrowhead\" d=\"M495.0,139.0 L503.0,127.0 487.0,127.0\" fill=\"currentColor\"/>\n",
              "</g>\n",
              "\n",
              "<g class=\"displacy-arrow\">\n",
              "    <path class=\"displacy-arc\" id=\"arrow-9b12930d491b4f9a9b8c981015ccf9a8-0-5\" stroke-width=\"2px\" d=\"M520,137.0 C520,92.0 580.0,92.0 580.0,137.0\" fill=\"none\" stroke=\"currentColor\"/>\n",
              "    <text dy=\"1.25em\" style=\"font-size: 0.8em; letter-spacing: 1px\">\n",
              "        <textPath xlink:href=\"#arrow-9b12930d491b4f9a9b8c981015ccf9a8-0-5\" class=\"displacy-label\" startOffset=\"50%\" side=\"left\" fill=\"currentColor\" text-anchor=\"middle\">cc</textPath>\n",
              "    </text>\n",
              "    <path class=\"displacy-arrowhead\" d=\"M580.0,139.0 L588.0,127.0 572.0,127.0\" fill=\"currentColor\"/>\n",
              "</g>\n",
              "\n",
              "<g class=\"displacy-arrow\">\n",
              "    <path class=\"displacy-arc\" id=\"arrow-9b12930d491b4f9a9b8c981015ccf9a8-0-6\" stroke-width=\"2px\" d=\"M700,137.0 C700,92.0 760.0,92.0 760.0,137.0\" fill=\"none\" stroke=\"currentColor\"/>\n",
              "    <text dy=\"1.25em\" style=\"font-size: 0.8em; letter-spacing: 1px\">\n",
              "        <textPath xlink:href=\"#arrow-9b12930d491b4f9a9b8c981015ccf9a8-0-6\" class=\"displacy-label\" startOffset=\"50%\" side=\"left\" fill=\"currentColor\" text-anchor=\"middle\">det</textPath>\n",
              "    </text>\n",
              "    <path class=\"displacy-arrowhead\" d=\"M700,139.0 L692,127.0 708,127.0\" fill=\"currentColor\"/>\n",
              "</g>\n",
              "\n",
              "<g class=\"displacy-arrow\">\n",
              "    <path class=\"displacy-arc\" id=\"arrow-9b12930d491b4f9a9b8c981015ccf9a8-0-7\" stroke-width=\"2px\" d=\"M520,137.0 C520,2.0 770.0,2.0 770.0,137.0\" fill=\"none\" stroke=\"currentColor\"/>\n",
              "    <text dy=\"1.25em\" style=\"font-size: 0.8em; letter-spacing: 1px\">\n",
              "        <textPath xlink:href=\"#arrow-9b12930d491b4f9a9b8c981015ccf9a8-0-7\" class=\"displacy-label\" startOffset=\"50%\" side=\"left\" fill=\"currentColor\" text-anchor=\"middle\">conj</textPath>\n",
              "    </text>\n",
              "    <path class=\"displacy-arrowhead\" d=\"M770.0,139.0 L778.0,127.0 762.0,127.0\" fill=\"currentColor\"/>\n",
              "</g>\n",
              "\n",
              "<g class=\"displacy-arrow\">\n",
              "    <path class=\"displacy-arc\" id=\"arrow-9b12930d491b4f9a9b8c981015ccf9a8-0-8\" stroke-width=\"2px\" d=\"M790,137.0 C790,92.0 850.0,92.0 850.0,137.0\" fill=\"none\" stroke=\"currentColor\"/>\n",
              "    <text dy=\"1.25em\" style=\"font-size: 0.8em; letter-spacing: 1px\">\n",
              "        <textPath xlink:href=\"#arrow-9b12930d491b4f9a9b8c981015ccf9a8-0-8\" class=\"displacy-label\" startOffset=\"50%\" side=\"left\" fill=\"currentColor\" text-anchor=\"middle\">prep</textPath>\n",
              "    </text>\n",
              "    <path class=\"displacy-arrowhead\" d=\"M850.0,139.0 L858.0,127.0 842.0,127.0\" fill=\"currentColor\"/>\n",
              "</g>\n",
              "\n",
              "<g class=\"displacy-arrow\">\n",
              "    <path class=\"displacy-arc\" id=\"arrow-9b12930d491b4f9a9b8c981015ccf9a8-0-9\" stroke-width=\"2px\" d=\"M970,137.0 C970,92.0 1030.0,92.0 1030.0,137.0\" fill=\"none\" stroke=\"currentColor\"/>\n",
              "    <text dy=\"1.25em\" style=\"font-size: 0.8em; letter-spacing: 1px\">\n",
              "        <textPath xlink:href=\"#arrow-9b12930d491b4f9a9b8c981015ccf9a8-0-9\" class=\"displacy-label\" startOffset=\"50%\" side=\"left\" fill=\"currentColor\" text-anchor=\"middle\">det</textPath>\n",
              "    </text>\n",
              "    <path class=\"displacy-arrowhead\" d=\"M970,139.0 L962,127.0 978,127.0\" fill=\"currentColor\"/>\n",
              "</g>\n",
              "\n",
              "<g class=\"displacy-arrow\">\n",
              "    <path class=\"displacy-arc\" id=\"arrow-9b12930d491b4f9a9b8c981015ccf9a8-0-10\" stroke-width=\"2px\" d=\"M880,137.0 C880,47.0 1035.0,47.0 1035.0,137.0\" fill=\"none\" stroke=\"currentColor\"/>\n",
              "    <text dy=\"1.25em\" style=\"font-size: 0.8em; letter-spacing: 1px\">\n",
              "        <textPath xlink:href=\"#arrow-9b12930d491b4f9a9b8c981015ccf9a8-0-10\" class=\"displacy-label\" startOffset=\"50%\" side=\"left\" fill=\"currentColor\" text-anchor=\"middle\">pobj</textPath>\n",
              "    </text>\n",
              "    <path class=\"displacy-arrowhead\" d=\"M1035.0,139.0 L1043.0,127.0 1027.0,127.0\" fill=\"currentColor\"/>\n",
              "</g>\n",
              "</svg></span>"
            ],
            "text/plain": [
              "<IPython.core.display.HTML object>"
            ]
          },
          "metadata": {
            "tags": []
          }
        }
      ]
    },
    {
      "cell_type": "code",
      "metadata": {
        "colab": {
          "base_uri": "https://localhost:8080/"
        },
        "id": "oaODOOdsnZMJ",
        "outputId": "d0c67c01-ded5-4698-bd51-277af6faec73"
      },
      "source": [
        "list(document[2].ancestors)"
      ],
      "execution_count": null,
      "outputs": [
        {
          "output_type": "execute_result",
          "data": {
            "text/plain": [
              "[Book]"
            ]
          },
          "metadata": {
            "tags": []
          },
          "execution_count": 73
        }
      ]
    },
    {
      "cell_type": "code",
      "metadata": {
        "colab": {
          "base_uri": "https://localhost:8080/"
        },
        "id": "bzm6eg6pnlma",
        "outputId": "d9eeb4f8-860a-481c-e7bf-3471b50f9516"
      },
      "source": [
        "list(document[2].children)"
      ],
      "execution_count": null,
      "outputs": [
        {
          "output_type": "execute_result",
          "data": {
            "text/plain": [
              "[a, for]"
            ]
          },
          "metadata": {
            "tags": []
          },
          "execution_count": 75
        }
      ]
    },
    {
      "cell_type": "markdown",
      "metadata": {
        "id": "Yfwi5m-4qQt2"
      },
      "source": [
        "## Example 4"
      ]
    },
    {
      "cell_type": "code",
      "metadata": {
        "colab": {
          "base_uri": "https://localhost:8080/"
        },
        "id": "9s9432QvohsP",
        "outputId": "42dd5462-ef21-4bad-a479-f9ff52f3f865"
      },
      "source": [
        "document = nlp('What places can we visit in London and stay in Paris?')\n",
        "locations = document[6], document[10]\n",
        "actions = document[4], document[8]\n",
        "print(locations, actions)"
      ],
      "execution_count": null,
      "outputs": [
        {
          "output_type": "stream",
          "text": [
            "(London, Paris) (visit, stay)\n"
          ],
          "name": "stdout"
        }
      ]
    },
    {
      "cell_type": "code",
      "metadata": {
        "colab": {
          "base_uri": "https://localhost:8080/"
        },
        "id": "HYzvNk4xrmYh",
        "outputId": "30dbc347-ca15-4c3d-be98-be9a676f9b61"
      },
      "source": [
        "for local in locations:\n",
        "  #print(local)\n",
        "  for action in local.ancestors:\n",
        "    if action in actions:\n",
        "      print('{} to {}'.format(local, action))\n",
        "      break"
      ],
      "execution_count": null,
      "outputs": [
        {
          "output_type": "stream",
          "text": [
            "London to visit\n",
            "Paris to stay\n"
          ],
          "name": "stdout"
        }
      ]
    },
    {
      "cell_type": "code",
      "metadata": {
        "colab": {
          "base_uri": "https://localhost:8080/",
          "height": 338
        },
        "id": "6Kgl4_grsB9S",
        "outputId": "8fd005fe-6bcb-4f5c-88d1-206d4a49c0d4"
      },
      "source": [
        "displacy.render(document, style='dep', jupyter=True, options={'distance': 90})"
      ],
      "execution_count": null,
      "outputs": [
        {
          "output_type": "display_data",
          "data": {
            "text/html": [
              "<span class=\"tex2jax_ignore\"><svg xmlns=\"http://www.w3.org/2000/svg\" xmlns:xlink=\"http://www.w3.org/1999/xlink\" xml:lang=\"en\" id=\"dd0f0ffbe29048848abc71cf5fd98949-0\" class=\"displacy\" width=\"1040\" height=\"317.0\" direction=\"ltr\" style=\"max-width: none; height: 317.0px; color: #000000; background: #ffffff; font-family: Arial; direction: ltr\">\n",
              "<text class=\"displacy-token\" fill=\"currentColor\" text-anchor=\"middle\" y=\"227.0\">\n",
              "    <tspan class=\"displacy-word\" fill=\"currentColor\" x=\"50\">What</tspan>\n",
              "    <tspan class=\"displacy-tag\" dy=\"2em\" fill=\"currentColor\" x=\"50\">DET</tspan>\n",
              "</text>\n",
              "\n",
              "<text class=\"displacy-token\" fill=\"currentColor\" text-anchor=\"middle\" y=\"227.0\">\n",
              "    <tspan class=\"displacy-word\" fill=\"currentColor\" x=\"140\">places</tspan>\n",
              "    <tspan class=\"displacy-tag\" dy=\"2em\" fill=\"currentColor\" x=\"140\">NOUN</tspan>\n",
              "</text>\n",
              "\n",
              "<text class=\"displacy-token\" fill=\"currentColor\" text-anchor=\"middle\" y=\"227.0\">\n",
              "    <tspan class=\"displacy-word\" fill=\"currentColor\" x=\"230\">can</tspan>\n",
              "    <tspan class=\"displacy-tag\" dy=\"2em\" fill=\"currentColor\" x=\"230\">AUX</tspan>\n",
              "</text>\n",
              "\n",
              "<text class=\"displacy-token\" fill=\"currentColor\" text-anchor=\"middle\" y=\"227.0\">\n",
              "    <tspan class=\"displacy-word\" fill=\"currentColor\" x=\"320\">we</tspan>\n",
              "    <tspan class=\"displacy-tag\" dy=\"2em\" fill=\"currentColor\" x=\"320\">PRON</tspan>\n",
              "</text>\n",
              "\n",
              "<text class=\"displacy-token\" fill=\"currentColor\" text-anchor=\"middle\" y=\"227.0\">\n",
              "    <tspan class=\"displacy-word\" fill=\"currentColor\" x=\"410\">visit</tspan>\n",
              "    <tspan class=\"displacy-tag\" dy=\"2em\" fill=\"currentColor\" x=\"410\">VERB</tspan>\n",
              "</text>\n",
              "\n",
              "<text class=\"displacy-token\" fill=\"currentColor\" text-anchor=\"middle\" y=\"227.0\">\n",
              "    <tspan class=\"displacy-word\" fill=\"currentColor\" x=\"500\">in</tspan>\n",
              "    <tspan class=\"displacy-tag\" dy=\"2em\" fill=\"currentColor\" x=\"500\">ADP</tspan>\n",
              "</text>\n",
              "\n",
              "<text class=\"displacy-token\" fill=\"currentColor\" text-anchor=\"middle\" y=\"227.0\">\n",
              "    <tspan class=\"displacy-word\" fill=\"currentColor\" x=\"590\">London</tspan>\n",
              "    <tspan class=\"displacy-tag\" dy=\"2em\" fill=\"currentColor\" x=\"590\">PROPN</tspan>\n",
              "</text>\n",
              "\n",
              "<text class=\"displacy-token\" fill=\"currentColor\" text-anchor=\"middle\" y=\"227.0\">\n",
              "    <tspan class=\"displacy-word\" fill=\"currentColor\" x=\"680\">and</tspan>\n",
              "    <tspan class=\"displacy-tag\" dy=\"2em\" fill=\"currentColor\" x=\"680\">CCONJ</tspan>\n",
              "</text>\n",
              "\n",
              "<text class=\"displacy-token\" fill=\"currentColor\" text-anchor=\"middle\" y=\"227.0\">\n",
              "    <tspan class=\"displacy-word\" fill=\"currentColor\" x=\"770\">stay</tspan>\n",
              "    <tspan class=\"displacy-tag\" dy=\"2em\" fill=\"currentColor\" x=\"770\">VERB</tspan>\n",
              "</text>\n",
              "\n",
              "<text class=\"displacy-token\" fill=\"currentColor\" text-anchor=\"middle\" y=\"227.0\">\n",
              "    <tspan class=\"displacy-word\" fill=\"currentColor\" x=\"860\">in</tspan>\n",
              "    <tspan class=\"displacy-tag\" dy=\"2em\" fill=\"currentColor\" x=\"860\">ADP</tspan>\n",
              "</text>\n",
              "\n",
              "<text class=\"displacy-token\" fill=\"currentColor\" text-anchor=\"middle\" y=\"227.0\">\n",
              "    <tspan class=\"displacy-word\" fill=\"currentColor\" x=\"950\">Paris?</tspan>\n",
              "    <tspan class=\"displacy-tag\" dy=\"2em\" fill=\"currentColor\" x=\"950\">PROPN</tspan>\n",
              "</text>\n",
              "\n",
              "<g class=\"displacy-arrow\">\n",
              "    <path class=\"displacy-arc\" id=\"arrow-dd0f0ffbe29048848abc71cf5fd98949-0-0\" stroke-width=\"2px\" d=\"M70,182.0 C70,137.0 125.0,137.0 125.0,182.0\" fill=\"none\" stroke=\"currentColor\"/>\n",
              "    <text dy=\"1.25em\" style=\"font-size: 0.8em; letter-spacing: 1px\">\n",
              "        <textPath xlink:href=\"#arrow-dd0f0ffbe29048848abc71cf5fd98949-0-0\" class=\"displacy-label\" startOffset=\"50%\" side=\"left\" fill=\"currentColor\" text-anchor=\"middle\">det</textPath>\n",
              "    </text>\n",
              "    <path class=\"displacy-arrowhead\" d=\"M70,184.0 L62,172.0 78,172.0\" fill=\"currentColor\"/>\n",
              "</g>\n",
              "\n",
              "<g class=\"displacy-arrow\">\n",
              "    <path class=\"displacy-arc\" id=\"arrow-dd0f0ffbe29048848abc71cf5fd98949-0-1\" stroke-width=\"2px\" d=\"M160,182.0 C160,47.0 405.0,47.0 405.0,182.0\" fill=\"none\" stroke=\"currentColor\"/>\n",
              "    <text dy=\"1.25em\" style=\"font-size: 0.8em; letter-spacing: 1px\">\n",
              "        <textPath xlink:href=\"#arrow-dd0f0ffbe29048848abc71cf5fd98949-0-1\" class=\"displacy-label\" startOffset=\"50%\" side=\"left\" fill=\"currentColor\" text-anchor=\"middle\">dobj</textPath>\n",
              "    </text>\n",
              "    <path class=\"displacy-arrowhead\" d=\"M160,184.0 L152,172.0 168,172.0\" fill=\"currentColor\"/>\n",
              "</g>\n",
              "\n",
              "<g class=\"displacy-arrow\">\n",
              "    <path class=\"displacy-arc\" id=\"arrow-dd0f0ffbe29048848abc71cf5fd98949-0-2\" stroke-width=\"2px\" d=\"M250,182.0 C250,92.0 400.0,92.0 400.0,182.0\" fill=\"none\" stroke=\"currentColor\"/>\n",
              "    <text dy=\"1.25em\" style=\"font-size: 0.8em; letter-spacing: 1px\">\n",
              "        <textPath xlink:href=\"#arrow-dd0f0ffbe29048848abc71cf5fd98949-0-2\" class=\"displacy-label\" startOffset=\"50%\" side=\"left\" fill=\"currentColor\" text-anchor=\"middle\">aux</textPath>\n",
              "    </text>\n",
              "    <path class=\"displacy-arrowhead\" d=\"M250,184.0 L242,172.0 258,172.0\" fill=\"currentColor\"/>\n",
              "</g>\n",
              "\n",
              "<g class=\"displacy-arrow\">\n",
              "    <path class=\"displacy-arc\" id=\"arrow-dd0f0ffbe29048848abc71cf5fd98949-0-3\" stroke-width=\"2px\" d=\"M340,182.0 C340,137.0 395.0,137.0 395.0,182.0\" fill=\"none\" stroke=\"currentColor\"/>\n",
              "    <text dy=\"1.25em\" style=\"font-size: 0.8em; letter-spacing: 1px\">\n",
              "        <textPath xlink:href=\"#arrow-dd0f0ffbe29048848abc71cf5fd98949-0-3\" class=\"displacy-label\" startOffset=\"50%\" side=\"left\" fill=\"currentColor\" text-anchor=\"middle\">nsubj</textPath>\n",
              "    </text>\n",
              "    <path class=\"displacy-arrowhead\" d=\"M340,184.0 L332,172.0 348,172.0\" fill=\"currentColor\"/>\n",
              "</g>\n",
              "\n",
              "<g class=\"displacy-arrow\">\n",
              "    <path class=\"displacy-arc\" id=\"arrow-dd0f0ffbe29048848abc71cf5fd98949-0-4\" stroke-width=\"2px\" d=\"M430,182.0 C430,137.0 485.0,137.0 485.0,182.0\" fill=\"none\" stroke=\"currentColor\"/>\n",
              "    <text dy=\"1.25em\" style=\"font-size: 0.8em; letter-spacing: 1px\">\n",
              "        <textPath xlink:href=\"#arrow-dd0f0ffbe29048848abc71cf5fd98949-0-4\" class=\"displacy-label\" startOffset=\"50%\" side=\"left\" fill=\"currentColor\" text-anchor=\"middle\">prep</textPath>\n",
              "    </text>\n",
              "    <path class=\"displacy-arrowhead\" d=\"M485.0,184.0 L493.0,172.0 477.0,172.0\" fill=\"currentColor\"/>\n",
              "</g>\n",
              "\n",
              "<g class=\"displacy-arrow\">\n",
              "    <path class=\"displacy-arc\" id=\"arrow-dd0f0ffbe29048848abc71cf5fd98949-0-5\" stroke-width=\"2px\" d=\"M520,182.0 C520,137.0 575.0,137.0 575.0,182.0\" fill=\"none\" stroke=\"currentColor\"/>\n",
              "    <text dy=\"1.25em\" style=\"font-size: 0.8em; letter-spacing: 1px\">\n",
              "        <textPath xlink:href=\"#arrow-dd0f0ffbe29048848abc71cf5fd98949-0-5\" class=\"displacy-label\" startOffset=\"50%\" side=\"left\" fill=\"currentColor\" text-anchor=\"middle\">pobj</textPath>\n",
              "    </text>\n",
              "    <path class=\"displacy-arrowhead\" d=\"M575.0,184.0 L583.0,172.0 567.0,172.0\" fill=\"currentColor\"/>\n",
              "</g>\n",
              "\n",
              "<g class=\"displacy-arrow\">\n",
              "    <path class=\"displacy-arc\" id=\"arrow-dd0f0ffbe29048848abc71cf5fd98949-0-6\" stroke-width=\"2px\" d=\"M430,182.0 C430,47.0 675.0,47.0 675.0,182.0\" fill=\"none\" stroke=\"currentColor\"/>\n",
              "    <text dy=\"1.25em\" style=\"font-size: 0.8em; letter-spacing: 1px\">\n",
              "        <textPath xlink:href=\"#arrow-dd0f0ffbe29048848abc71cf5fd98949-0-6\" class=\"displacy-label\" startOffset=\"50%\" side=\"left\" fill=\"currentColor\" text-anchor=\"middle\">cc</textPath>\n",
              "    </text>\n",
              "    <path class=\"displacy-arrowhead\" d=\"M675.0,184.0 L683.0,172.0 667.0,172.0\" fill=\"currentColor\"/>\n",
              "</g>\n",
              "\n",
              "<g class=\"displacy-arrow\">\n",
              "    <path class=\"displacy-arc\" id=\"arrow-dd0f0ffbe29048848abc71cf5fd98949-0-7\" stroke-width=\"2px\" d=\"M430,182.0 C430,2.0 770.0,2.0 770.0,182.0\" fill=\"none\" stroke=\"currentColor\"/>\n",
              "    <text dy=\"1.25em\" style=\"font-size: 0.8em; letter-spacing: 1px\">\n",
              "        <textPath xlink:href=\"#arrow-dd0f0ffbe29048848abc71cf5fd98949-0-7\" class=\"displacy-label\" startOffset=\"50%\" side=\"left\" fill=\"currentColor\" text-anchor=\"middle\">conj</textPath>\n",
              "    </text>\n",
              "    <path class=\"displacy-arrowhead\" d=\"M770.0,184.0 L778.0,172.0 762.0,172.0\" fill=\"currentColor\"/>\n",
              "</g>\n",
              "\n",
              "<g class=\"displacy-arrow\">\n",
              "    <path class=\"displacy-arc\" id=\"arrow-dd0f0ffbe29048848abc71cf5fd98949-0-8\" stroke-width=\"2px\" d=\"M790,182.0 C790,137.0 845.0,137.0 845.0,182.0\" fill=\"none\" stroke=\"currentColor\"/>\n",
              "    <text dy=\"1.25em\" style=\"font-size: 0.8em; letter-spacing: 1px\">\n",
              "        <textPath xlink:href=\"#arrow-dd0f0ffbe29048848abc71cf5fd98949-0-8\" class=\"displacy-label\" startOffset=\"50%\" side=\"left\" fill=\"currentColor\" text-anchor=\"middle\">prep</textPath>\n",
              "    </text>\n",
              "    <path class=\"displacy-arrowhead\" d=\"M845.0,184.0 L853.0,172.0 837.0,172.0\" fill=\"currentColor\"/>\n",
              "</g>\n",
              "\n",
              "<g class=\"displacy-arrow\">\n",
              "    <path class=\"displacy-arc\" id=\"arrow-dd0f0ffbe29048848abc71cf5fd98949-0-9\" stroke-width=\"2px\" d=\"M880,182.0 C880,137.0 935.0,137.0 935.0,182.0\" fill=\"none\" stroke=\"currentColor\"/>\n",
              "    <text dy=\"1.25em\" style=\"font-size: 0.8em; letter-spacing: 1px\">\n",
              "        <textPath xlink:href=\"#arrow-dd0f0ffbe29048848abc71cf5fd98949-0-9\" class=\"displacy-label\" startOffset=\"50%\" side=\"left\" fill=\"currentColor\" text-anchor=\"middle\">pobj</textPath>\n",
              "    </text>\n",
              "    <path class=\"displacy-arrowhead\" d=\"M935.0,184.0 L943.0,172.0 927.0,172.0\" fill=\"currentColor\"/>\n",
              "</g>\n",
              "</svg></span>"
            ],
            "text/plain": [
              "<IPython.core.display.HTML object>"
            ]
          },
          "metadata": {
            "tags": []
          }
        }
      ]
    },
    {
      "cell_type": "markdown",
      "metadata": {
        "id": "cd8PYqtyxTt8"
      },
      "source": [
        "# Similarity between words and sentences\n",
        "\n",
        "- spaCy uses the GloVe algorithm (Global Vectors for Word Representation)\n",
        "- Original paper: https://nlp.stanford.edu/pubs/glove.pdf"
      ]
    },
    {
      "cell_type": "markdown",
      "metadata": {
        "id": "pLv1PTJz0sks"
      },
      "source": [
        "## Example 1"
      ]
    },
    {
      "cell_type": "code",
      "metadata": {
        "id": "DdecuceWtziV"
      },
      "source": [
        "w1 = nlp('hello')\n",
        "w2 = nlp('hi')\n",
        "w3 = nlp('or')"
      ],
      "execution_count": null,
      "outputs": []
    },
    {
      "cell_type": "code",
      "metadata": {
        "colab": {
          "base_uri": "https://localhost:8080/"
        },
        "id": "FqLZCLFHuITK",
        "outputId": "68546cc0-6e02-43e0-b984-de6f0a0d96b7"
      },
      "source": [
        "w1.similarity(w2)"
      ],
      "execution_count": null,
      "outputs": [
        {
          "output_type": "stream",
          "text": [
            "/usr/local/lib/python3.7/dist-packages/ipykernel_launcher.py:1: UserWarning: [W007] The model you're using has no word vectors loaded, so the result of the Doc.similarity method will be based on the tagger, parser and NER, which may not give useful similarity judgements. This may happen if you're using one of the small models, e.g. `en_core_web_sm`, which don't ship with word vectors and only use context-sensitive tensors. You can always add your own word vectors, or use one of the larger models instead if available.\n",
            "  \"\"\"Entry point for launching an IPython kernel.\n"
          ],
          "name": "stderr"
        },
        {
          "output_type": "execute_result",
          "data": {
            "text/plain": [
              "0.851778249322447"
            ]
          },
          "metadata": {
            "tags": []
          },
          "execution_count": 81
        }
      ]
    },
    {
      "cell_type": "code",
      "metadata": {
        "colab": {
          "base_uri": "https://localhost:8080/"
        },
        "id": "P1isrdIYuewK",
        "outputId": "5d913706-2aef-487d-f123-1493e4289b90"
      },
      "source": [
        "w2.similarity(w1)"
      ],
      "execution_count": null,
      "outputs": [
        {
          "output_type": "stream",
          "text": [
            "/usr/local/lib/python3.7/dist-packages/ipykernel_launcher.py:1: UserWarning: [W007] The model you're using has no word vectors loaded, so the result of the Doc.similarity method will be based on the tagger, parser and NER, which may not give useful similarity judgements. This may happen if you're using one of the small models, e.g. `en_core_web_sm`, which don't ship with word vectors and only use context-sensitive tensors. You can always add your own word vectors, or use one of the larger models instead if available.\n",
            "  \"\"\"Entry point for launching an IPython kernel.\n"
          ],
          "name": "stderr"
        },
        {
          "output_type": "execute_result",
          "data": {
            "text/plain": [
              "0.851778249322447"
            ]
          },
          "metadata": {
            "tags": []
          },
          "execution_count": 82
        }
      ]
    },
    {
      "cell_type": "code",
      "metadata": {
        "colab": {
          "base_uri": "https://localhost:8080/"
        },
        "id": "TOWZx_e8uibI",
        "outputId": "6e2dbe69-f3f5-47ee-ab85-f322febbe1ea"
      },
      "source": [
        "w1.similarity(w3)"
      ],
      "execution_count": null,
      "outputs": [
        {
          "output_type": "stream",
          "text": [
            "/usr/local/lib/python3.7/dist-packages/ipykernel_launcher.py:1: UserWarning: [W007] The model you're using has no word vectors loaded, so the result of the Doc.similarity method will be based on the tagger, parser and NER, which may not give useful similarity judgements. This may happen if you're using one of the small models, e.g. `en_core_web_sm`, which don't ship with word vectors and only use context-sensitive tensors. You can always add your own word vectors, or use one of the larger models instead if available.\n",
            "  \"\"\"Entry point for launching an IPython kernel.\n"
          ],
          "name": "stderr"
        },
        {
          "output_type": "execute_result",
          "data": {
            "text/plain": [
              "0.23884662756950303"
            ]
          },
          "metadata": {
            "tags": []
          },
          "execution_count": 83
        }
      ]
    },
    {
      "cell_type": "code",
      "metadata": {
        "colab": {
          "base_uri": "https://localhost:8080/"
        },
        "id": "lFytVanguuXb",
        "outputId": "e68269e6-139d-4008-deb5-3952defb3476"
      },
      "source": [
        "w2.similarity(w3)"
      ],
      "execution_count": null,
      "outputs": [
        {
          "output_type": "stream",
          "text": [
            "/usr/local/lib/python3.7/dist-packages/ipykernel_launcher.py:1: UserWarning: [W007] The model you're using has no word vectors loaded, so the result of the Doc.similarity method will be based on the tagger, parser and NER, which may not give useful similarity judgements. This may happen if you're using one of the small models, e.g. `en_core_web_sm`, which don't ship with word vectors and only use context-sensitive tensors. You can always add your own word vectors, or use one of the larger models instead if available.\n",
            "  \"\"\"Entry point for launching an IPython kernel.\n"
          ],
          "name": "stderr"
        },
        {
          "output_type": "execute_result",
          "data": {
            "text/plain": [
              "0.22028085855926335"
            ]
          },
          "metadata": {
            "tags": []
          },
          "execution_count": 84
        }
      ]
    },
    {
      "cell_type": "code",
      "metadata": {
        "id": "8d2tTR-xu1fU"
      },
      "source": [
        "text1 = nlp('When will the new movie be released?')\n",
        "text2 = nlp('The new movie will be released next month')\n",
        "text3 = nlp('What color is the car?')"
      ],
      "execution_count": null,
      "outputs": []
    },
    {
      "cell_type": "code",
      "metadata": {
        "colab": {
          "base_uri": "https://localhost:8080/"
        },
        "id": "_LGrfTQ5u_yZ",
        "outputId": "fced8f06-c4fe-4616-84f8-d0e515ab2fa5"
      },
      "source": [
        "text1.similarity(text2)"
      ],
      "execution_count": null,
      "outputs": [
        {
          "output_type": "stream",
          "text": [
            "/usr/local/lib/python3.7/dist-packages/ipykernel_launcher.py:1: UserWarning: [W007] The model you're using has no word vectors loaded, so the result of the Doc.similarity method will be based on the tagger, parser and NER, which may not give useful similarity judgements. This may happen if you're using one of the small models, e.g. `en_core_web_sm`, which don't ship with word vectors and only use context-sensitive tensors. You can always add your own word vectors, or use one of the larger models instead if available.\n",
            "  \"\"\"Entry point for launching an IPython kernel.\n"
          ],
          "name": "stderr"
        },
        {
          "output_type": "execute_result",
          "data": {
            "text/plain": [
              "0.6713114919851509"
            ]
          },
          "metadata": {
            "tags": []
          },
          "execution_count": 86
        }
      ]
    },
    {
      "cell_type": "code",
      "metadata": {
        "colab": {
          "base_uri": "https://localhost:8080/"
        },
        "id": "N5ogKIbgvGaq",
        "outputId": "a652a19d-2da5-4a08-db14-e73e7326f595"
      },
      "source": [
        "text1.similarity(text3)"
      ],
      "execution_count": null,
      "outputs": [
        {
          "output_type": "stream",
          "text": [
            "/usr/local/lib/python3.7/dist-packages/ipykernel_launcher.py:1: UserWarning: [W007] The model you're using has no word vectors loaded, so the result of the Doc.similarity method will be based on the tagger, parser and NER, which may not give useful similarity judgements. This may happen if you're using one of the small models, e.g. `en_core_web_sm`, which don't ship with word vectors and only use context-sensitive tensors. You can always add your own word vectors, or use one of the larger models instead if available.\n",
            "  \"\"\"Entry point for launching an IPython kernel.\n"
          ],
          "name": "stderr"
        },
        {
          "output_type": "execute_result",
          "data": {
            "text/plain": [
              "0.263474601483632"
            ]
          },
          "metadata": {
            "tags": []
          },
          "execution_count": 88
        }
      ]
    },
    {
      "cell_type": "code",
      "metadata": {
        "id": "wbd7H3EFvTjr"
      },
      "source": [
        "# New York\n",
        "# Nw Yok"
      ],
      "execution_count": null,
      "outputs": []
    },
    {
      "cell_type": "markdown",
      "metadata": {
        "id": "c0CVDr5W0wkK"
      },
      "source": [
        "## Example 2"
      ]
    },
    {
      "cell_type": "code",
      "metadata": {
        "id": "3vD5xCbtweo7"
      },
      "source": [
        "text = nlp('cat dog horse person')"
      ],
      "execution_count": null,
      "outputs": []
    },
    {
      "cell_type": "code",
      "metadata": {
        "colab": {
          "base_uri": "https://localhost:8080/"
        },
        "id": "04OuzieOwrNr",
        "outputId": "e6c5f211-bb3d-4ef7-f575-b55ff0560f81"
      },
      "source": [
        "for text1 in text:\n",
        "  #print('----', text1)\n",
        "  for text2 in text:\n",
        "    #print(text2)\n",
        "    similarity = text1.similarity(text2) * 100\n",
        "    print('{} is {}% similar to {}'.format(text1, similarity, text2))"
      ],
      "execution_count": null,
      "outputs": [
        {
          "output_type": "stream",
          "text": [
            "cat is 100.0% similar to cat\n",
            "cat is 57.744014263153076% similar to dog\n",
            "cat is 60.72404980659485% similar to horse\n",
            "cat is 22.322461009025574% similar to person\n",
            "dog is 57.744014263153076% similar to cat\n",
            "dog is 100.0% similar to dog\n",
            "dog is 68.99393796920776% similar to horse\n",
            "dog is 40.91106057167053% similar to person\n",
            "horse is 60.72404980659485% similar to cat\n",
            "horse is 68.99393796920776% similar to dog\n",
            "horse is 100.0% similar to horse\n",
            "horse is 38.49261403083801% similar to person\n",
            "person is 22.322461009025574% similar to cat\n",
            "person is 40.91106057167053% similar to dog\n",
            "person is 38.49261403083801% similar to horse\n",
            "person is 100.0% similar to person\n"
          ],
          "name": "stdout"
        },
        {
          "output_type": "stream",
          "text": [
            "/usr/local/lib/python3.7/dist-packages/ipykernel_launcher.py:5: UserWarning: [W007] The model you're using has no word vectors loaded, so the result of the Token.similarity method will be based on the tagger, parser and NER, which may not give useful similarity judgements. This may happen if you're using one of the small models, e.g. `en_core_web_sm`, which don't ship with word vectors and only use context-sensitive tensors. You can always add your own word vectors, or use one of the larger models instead if available.\n",
            "  \"\"\"\n"
          ],
          "name": "stderr"
        }
      ]
    },
    {
      "cell_type": "markdown",
      "metadata": {
        "id": "zcgAkuB346vV"
      },
      "source": [
        "# Tokenization"
      ]
    },
    {
      "cell_type": "code",
      "metadata": {
        "id": "w6Dy-1eEybBP"
      },
      "source": [
        "document1 = nlp('I am learning natural language processing. The course is in London. Ph.d John is coming')"
      ],
      "execution_count": null,
      "outputs": []
    },
    {
      "cell_type": "code",
      "metadata": {
        "colab": {
          "base_uri": "https://localhost:8080/"
        },
        "id": "tKYYTV9h0AST",
        "outputId": "b85d6a4e-aaa3-4205-80f5-cc99c2a7d8c8"
      },
      "source": [
        "for token in document1:\n",
        "  print(token)"
      ],
      "execution_count": null,
      "outputs": [
        {
          "output_type": "stream",
          "text": [
            "I\n",
            "am\n",
            "learning\n",
            "natural\n",
            "language\n",
            "processing\n",
            ".\n",
            "The\n",
            "course\n",
            "is\n",
            "in\n",
            "London\n",
            ".\n",
            "Ph.d\n",
            "John\n",
            "is\n",
            "coming\n"
          ],
          "name": "stdout"
        }
      ]
    },
    {
      "cell_type": "code",
      "metadata": {
        "colab": {
          "base_uri": "https://localhost:8080/"
        },
        "id": "7usSbb7z0J5s",
        "outputId": "59ffddd5-42ee-40fa-fdd1-7166bbcec8a1"
      },
      "source": [
        "document2 = 'I am learning natural language processing. The course is in London. Ph.d John is coming'\n",
        "document2.split('.')"
      ],
      "execution_count": null,
      "outputs": [
        {
          "output_type": "execute_result",
          "data": {
            "text/plain": [
              "['I am learning natural language processing',\n",
              " ' The course is in London',\n",
              " ' Ph',\n",
              " 'd John is coming']"
            ]
          },
          "metadata": {
            "tags": []
          },
          "execution_count": 107
        }
      ]
    }
  ]
}